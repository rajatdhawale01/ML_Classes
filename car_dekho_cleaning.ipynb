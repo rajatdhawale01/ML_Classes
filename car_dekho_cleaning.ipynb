{
 "cells": [
  {
   "cell_type": "code",
   "execution_count": 2,
   "id": "1b10f748-8960-4028-87a2-074221ce4754",
   "metadata": {},
   "outputs": [],
   "source": [
    "import pandas as pd"
   ]
  },
  {
   "cell_type": "code",
   "execution_count": 4,
   "id": "e9306e11-4c09-4311-b1dd-70468cb1c818",
   "metadata": {},
   "outputs": [],
   "source": [
    "path = '/Users/rajatdhawale/Desktop/ML_Learning/Preprocessing/data/CarDekho_Dataset1.csv'"
   ]
  },
  {
   "cell_type": "code",
   "execution_count": 6,
   "id": "6cb9708b-b162-4939-a2d5-004e63b6f1d4",
   "metadata": {},
   "outputs": [],
   "source": [
    "df = pd.read_csv(path)\n"
   ]
  },
  {
   "cell_type": "code",
   "execution_count": 8,
   "id": "5c13d574-124d-41db-b7ea-2849d3ce5c4f",
   "metadata": {},
   "outputs": [
    {
     "data": {
      "text/html": [
       "<div>\n",
       "<style scoped>\n",
       "    .dataframe tbody tr th:only-of-type {\n",
       "        vertical-align: middle;\n",
       "    }\n",
       "\n",
       "    .dataframe tbody tr th {\n",
       "        vertical-align: top;\n",
       "    }\n",
       "\n",
       "    .dataframe thead th {\n",
       "        text-align: right;\n",
       "    }\n",
       "</style>\n",
       "<table border=\"1\" class=\"dataframe\">\n",
       "  <thead>\n",
       "    <tr style=\"text-align: right;\">\n",
       "      <th></th>\n",
       "      <th>name</th>\n",
       "      <th>year</th>\n",
       "      <th>selling_price</th>\n",
       "      <th>km_driven</th>\n",
       "      <th>fuel</th>\n",
       "      <th>seller_type</th>\n",
       "      <th>transmission</th>\n",
       "      <th>owner</th>\n",
       "    </tr>\n",
       "  </thead>\n",
       "  <tbody>\n",
       "    <tr>\n",
       "      <th>0</th>\n",
       "      <td>Maruti 800 AC</td>\n",
       "      <td>2007</td>\n",
       "      <td>22598.720477</td>\n",
       "      <td>70000.0</td>\n",
       "      <td>petrol</td>\n",
       "      <td>individual</td>\n",
       "      <td>manual</td>\n",
       "      <td>first owner</td>\n",
       "    </tr>\n",
       "    <tr>\n",
       "      <th>1</th>\n",
       "      <td>Maruti Wagon R LXI Minor</td>\n",
       "      <td>2007</td>\n",
       "      <td>26248.935936</td>\n",
       "      <td>50000.0</td>\n",
       "      <td>petrol</td>\n",
       "      <td>individual</td>\n",
       "      <td>manual</td>\n",
       "      <td>first owner</td>\n",
       "    </tr>\n",
       "    <tr>\n",
       "      <th>2</th>\n",
       "      <td>Hyundai Verna 1.6 SX</td>\n",
       "      <td>2012</td>\n",
       "      <td>30048.313952</td>\n",
       "      <td>100000.0</td>\n",
       "      <td>diesel</td>\n",
       "      <td>individual</td>\n",
       "      <td>manual</td>\n",
       "      <td>first owner</td>\n",
       "    </tr>\n",
       "    <tr>\n",
       "      <th>3</th>\n",
       "      <td>Datsun RediGO T Option</td>\n",
       "      <td>2017</td>\n",
       "      <td>103341.409675</td>\n",
       "      <td>46000.0</td>\n",
       "      <td>petrol</td>\n",
       "      <td>individual</td>\n",
       "      <td>manual</td>\n",
       "      <td>first owner</td>\n",
       "    </tr>\n",
       "    <tr>\n",
       "      <th>4</th>\n",
       "      <td>Honda Amaze VX i-DTEC</td>\n",
       "      <td>2014</td>\n",
       "      <td>20000.000000</td>\n",
       "      <td>141000.0</td>\n",
       "      <td>diesel</td>\n",
       "      <td>individual</td>\n",
       "      <td>manual</td>\n",
       "      <td>second owner</td>\n",
       "    </tr>\n",
       "    <tr>\n",
       "      <th>5</th>\n",
       "      <td>Maruti Alto LX BSIII</td>\n",
       "      <td>2007</td>\n",
       "      <td>20000.000000</td>\n",
       "      <td>125000.0</td>\n",
       "      <td>petrol</td>\n",
       "      <td>individual</td>\n",
       "      <td>manual</td>\n",
       "      <td>first owner</td>\n",
       "    </tr>\n",
       "    <tr>\n",
       "      <th>6</th>\n",
       "      <td>Hyundai Xcent 1.2 Kappa S</td>\n",
       "      <td>2016</td>\n",
       "      <td>103292.128155</td>\n",
       "      <td>25000.0</td>\n",
       "      <td>petrol</td>\n",
       "      <td>individual</td>\n",
       "      <td>manual</td>\n",
       "      <td>first owner</td>\n",
       "    </tr>\n",
       "    <tr>\n",
       "      <th>7</th>\n",
       "      <td>Tata Indigo Grand Petrol</td>\n",
       "      <td>2014</td>\n",
       "      <td>53007.680625</td>\n",
       "      <td>60000.0</td>\n",
       "      <td>petrol</td>\n",
       "      <td>individual</td>\n",
       "      <td>manual</td>\n",
       "      <td>2nd owner</td>\n",
       "    </tr>\n",
       "    <tr>\n",
       "      <th>8</th>\n",
       "      <td>Hyundai Creta 1.6 VTVT S</td>\n",
       "      <td>2015</td>\n",
       "      <td>73714.347050</td>\n",
       "      <td>25000.0</td>\n",
       "      <td>petrol</td>\n",
       "      <td>individual</td>\n",
       "      <td>manual</td>\n",
       "      <td>first owner</td>\n",
       "    </tr>\n",
       "    <tr>\n",
       "      <th>9</th>\n",
       "      <td>Maruti Celerio Green VXI</td>\n",
       "      <td>2017</td>\n",
       "      <td>70325.600436</td>\n",
       "      <td>78000.0</td>\n",
       "      <td>cng</td>\n",
       "      <td>individual</td>\n",
       "      <td>manual</td>\n",
       "      <td>first owner</td>\n",
       "    </tr>\n",
       "  </tbody>\n",
       "</table>\n",
       "</div>"
      ],
      "text/plain": [
       "                        name  year  selling_price  km_driven    fuel  \\\n",
       "0              Maruti 800 AC  2007   22598.720477    70000.0  petrol   \n",
       "1   Maruti Wagon R LXI Minor  2007   26248.935936    50000.0  petrol   \n",
       "2       Hyundai Verna 1.6 SX  2012   30048.313952   100000.0  diesel   \n",
       "3     Datsun RediGO T Option  2017  103341.409675    46000.0  petrol   \n",
       "4      Honda Amaze VX i-DTEC  2014   20000.000000   141000.0  diesel   \n",
       "5       Maruti Alto LX BSIII  2007   20000.000000   125000.0  petrol   \n",
       "6  Hyundai Xcent 1.2 Kappa S  2016  103292.128155    25000.0  petrol   \n",
       "7   Tata Indigo Grand Petrol  2014   53007.680625    60000.0  petrol   \n",
       "8   Hyundai Creta 1.6 VTVT S  2015   73714.347050    25000.0  petrol   \n",
       "9   Maruti Celerio Green VXI  2017   70325.600436    78000.0     cng   \n",
       "\n",
       "  seller_type transmission         owner  \n",
       "0  individual       manual   first owner  \n",
       "1  individual       manual   first owner  \n",
       "2  individual       manual   first owner  \n",
       "3  individual       manual   first owner  \n",
       "4  individual       manual  second owner  \n",
       "5  individual       manual   first owner  \n",
       "6  individual       manual   first owner  \n",
       "7  individual       manual     2nd owner  \n",
       "8  individual       manual   first owner  \n",
       "9  individual       manual   first owner  "
      ]
     },
     "execution_count": 8,
     "metadata": {},
     "output_type": "execute_result"
    }
   ],
   "source": [
    "df.head(10)"
   ]
  },
  {
   "cell_type": "code",
   "execution_count": 10,
   "id": "4ef04681-cbe7-4b42-8713-a11b0041ff54",
   "metadata": {},
   "outputs": [
    {
     "name": "stdout",
     "output_type": "stream",
     "text": [
      "<class 'pandas.core.frame.DataFrame'>\n",
      "RangeIndex: 4345 entries, 0 to 4344\n",
      "Data columns (total 8 columns):\n",
      " #   Column         Non-Null Count  Dtype  \n",
      "---  ------         --------------  -----  \n",
      " 0   name           4345 non-null   object \n",
      " 1   year           4345 non-null   int64  \n",
      " 2   selling_price  4315 non-null   float64\n",
      " 3   km_driven      4315 non-null   float64\n",
      " 4   fuel           4345 non-null   object \n",
      " 5   seller_type    4345 non-null   object \n",
      " 6   transmission   4345 non-null   object \n",
      " 7   owner          4345 non-null   object \n",
      "dtypes: float64(2), int64(1), object(5)\n",
      "memory usage: 271.7+ KB\n"
     ]
    }
   ],
   "source": [
    "df.info()"
   ]
  },
  {
   "cell_type": "code",
   "execution_count": 12,
   "id": "e755e05b-db06-4f03-bcb9-91363f3bfa5d",
   "metadata": {},
   "outputs": [
    {
     "data": {
      "text/html": [
       "<div>\n",
       "<style scoped>\n",
       "    .dataframe tbody tr th:only-of-type {\n",
       "        vertical-align: middle;\n",
       "    }\n",
       "\n",
       "    .dataframe tbody tr th {\n",
       "        vertical-align: top;\n",
       "    }\n",
       "\n",
       "    .dataframe thead th {\n",
       "        text-align: right;\n",
       "    }\n",
       "</style>\n",
       "<table border=\"1\" class=\"dataframe\">\n",
       "  <thead>\n",
       "    <tr style=\"text-align: right;\">\n",
       "      <th></th>\n",
       "      <th>year</th>\n",
       "      <th>selling_price</th>\n",
       "      <th>km_driven</th>\n",
       "    </tr>\n",
       "  </thead>\n",
       "  <tbody>\n",
       "    <tr>\n",
       "      <th>count</th>\n",
       "      <td>4345.000000</td>\n",
       "      <td>4315.000000</td>\n",
       "      <td>4315.000000</td>\n",
       "    </tr>\n",
       "    <tr>\n",
       "      <th>mean</th>\n",
       "      <td>2013.091139</td>\n",
       "      <td>60073.454525</td>\n",
       "      <td>66296.218772</td>\n",
       "    </tr>\n",
       "    <tr>\n",
       "      <th>std</th>\n",
       "      <td>4.215094</td>\n",
       "      <td>40253.780044</td>\n",
       "      <td>46679.004340</td>\n",
       "    </tr>\n",
       "    <tr>\n",
       "      <th>min</th>\n",
       "      <td>1992.000000</td>\n",
       "      <td>20000.000000</td>\n",
       "      <td>1.000000</td>\n",
       "    </tr>\n",
       "    <tr>\n",
       "      <th>25%</th>\n",
       "      <td>2011.000000</td>\n",
       "      <td>20366.330957</td>\n",
       "      <td>35000.000000</td>\n",
       "    </tr>\n",
       "    <tr>\n",
       "      <th>50%</th>\n",
       "      <td>2014.000000</td>\n",
       "      <td>48849.943102</td>\n",
       "      <td>60000.000000</td>\n",
       "    </tr>\n",
       "    <tr>\n",
       "      <th>75%</th>\n",
       "      <td>2016.000000</td>\n",
       "      <td>87910.684204</td>\n",
       "      <td>90000.000000</td>\n",
       "    </tr>\n",
       "    <tr>\n",
       "      <th>max</th>\n",
       "      <td>2020.000000</td>\n",
       "      <td>226100.037576</td>\n",
       "      <td>806599.000000</td>\n",
       "    </tr>\n",
       "  </tbody>\n",
       "</table>\n",
       "</div>"
      ],
      "text/plain": [
       "              year  selling_price      km_driven\n",
       "count  4345.000000    4315.000000    4315.000000\n",
       "mean   2013.091139   60073.454525   66296.218772\n",
       "std       4.215094   40253.780044   46679.004340\n",
       "min    1992.000000   20000.000000       1.000000\n",
       "25%    2011.000000   20366.330957   35000.000000\n",
       "50%    2014.000000   48849.943102   60000.000000\n",
       "75%    2016.000000   87910.684204   90000.000000\n",
       "max    2020.000000  226100.037576  806599.000000"
      ]
     },
     "execution_count": 12,
     "metadata": {},
     "output_type": "execute_result"
    }
   ],
   "source": [
    "df.describe()"
   ]
  },
  {
   "cell_type": "code",
   "execution_count": 21,
   "id": "032ba8ed-e80c-462d-b73f-47201c57e698",
   "metadata": {},
   "outputs": [
    {
     "data": {
      "text/plain": [
       "array(['petrol', 'diesel', 'cng', 'Petrol', 'lpg', 'cnG', 'Diesel',\n",
       "       'PETROL', 'CNG', 'electric'], dtype=object)"
      ]
     },
     "execution_count": 21,
     "metadata": {},
     "output_type": "execute_result"
    }
   ],
   "source": [
    "df.fuel.unique()"
   ]
  },
  {
   "cell_type": "code",
   "execution_count": 23,
   "id": "82a64a62-15fc-4624-9ffe-7308741859d8",
   "metadata": {},
   "outputs": [
    {
     "data": {
      "text/plain": [
       "array(['Petrol', 'Diesel', 'Cng', 'LPG', 'Electric'], dtype=object)"
      ]
     },
     "execution_count": 23,
     "metadata": {},
     "output_type": "execute_result"
    }
   ],
   "source": [
    "mapping_fuel = {'petrol':'Petrol','PETROL': 'Petrol',\n",
    "               'diesel': 'Diesel','Diesel':'Diesel',\n",
    "                'cng': 'Cng', 'cnG':'Cng','CNG':'Cng',\n",
    "                'lpg' : 'LPG',\n",
    "                'electric' : 'Electric'\n",
    "               }\n",
    "\n",
    "df['fuel'] = df['fuel'].replace(mapping_fuel)\n",
    "df.fuel.unique()"
   ]
  },
  {
   "cell_type": "code",
   "execution_count": 25,
   "id": "abd23e33-e51e-4442-b844-801c80c2bd54",
   "metadata": {},
   "outputs": [
    {
     "name": "stdout",
     "output_type": "stream",
     "text": [
      "<class 'pandas.core.frame.DataFrame'>\n",
      "RangeIndex: 4345 entries, 0 to 4344\n",
      "Data columns (total 8 columns):\n",
      " #   Column         Non-Null Count  Dtype  \n",
      "---  ------         --------------  -----  \n",
      " 0   name           4345 non-null   object \n",
      " 1   year           4345 non-null   int64  \n",
      " 2   selling_price  4315 non-null   float64\n",
      " 3   km_driven      4315 non-null   float64\n",
      " 4   fuel           4345 non-null   object \n",
      " 5   seller_type    4345 non-null   object \n",
      " 6   transmission   4345 non-null   object \n",
      " 7   owner          4345 non-null   object \n",
      "dtypes: float64(2), int64(1), object(5)\n",
      "memory usage: 271.7+ KB\n"
     ]
    }
   ],
   "source": [
    "df.info()"
   ]
  },
  {
   "cell_type": "code",
   "execution_count": 35,
   "id": "4b09c498-f529-49f8-970b-1c8302a69c54",
   "metadata": {},
   "outputs": [],
   "source": [
    "df = df.dropna(subset=['selling_price','km_driven'])"
   ]
  },
  {
   "cell_type": "code",
   "execution_count": 37,
   "id": "edf5ece1-afeb-4a51-a485-1a6895f079e0",
   "metadata": {},
   "outputs": [
    {
     "name": "stdout",
     "output_type": "stream",
     "text": [
      "<class 'pandas.core.frame.DataFrame'>\n",
      "Int64Index: 4285 entries, 0 to 4344\n",
      "Data columns (total 8 columns):\n",
      " #   Column         Non-Null Count  Dtype  \n",
      "---  ------         --------------  -----  \n",
      " 0   name           4285 non-null   object \n",
      " 1   year           4285 non-null   int64  \n",
      " 2   selling_price  4285 non-null   float64\n",
      " 3   km_driven      4285 non-null   float64\n",
      " 4   fuel           4285 non-null   object \n",
      " 5   seller_type    4285 non-null   object \n",
      " 6   transmission   4285 non-null   object \n",
      " 7   owner          4285 non-null   object \n",
      "dtypes: float64(2), int64(1), object(5)\n",
      "memory usage: 301.3+ KB\n"
     ]
    }
   ],
   "source": [
    "df.info()"
   ]
  },
  {
   "cell_type": "code",
   "execution_count": 62,
   "id": "9748ce8a-719d-4157-bca8-a232dd20a5d1",
   "metadata": {},
   "outputs": [],
   "source": [
    "data = pd.Series([10,20,20,20,20,30,30,40,50,50000])\n"
   ]
  },
  {
   "cell_type": "code",
   "execution_count": 64,
   "id": "ed5670d2-06ee-49e3-b8f7-1afbb0058a9d",
   "metadata": {},
   "outputs": [
    {
     "name": "stdout",
     "output_type": "stream",
     "text": [
      "5024.0\n",
      "25.0\n",
      "0    20\n",
      "dtype: int64\n"
     ]
    }
   ],
   "source": [
    "print(data.mean())\n",
    "print(data.median())\n",
    "print(data.mode())"
   ]
  },
  {
   "cell_type": "code",
   "execution_count": 48,
   "id": "d2113260-a81f-4f7d-b2f8-dd7c7fcc403a",
   "metadata": {},
   "outputs": [
    {
     "data": {
      "text/plain": [
       "5.0"
      ]
     },
     "execution_count": 48,
     "metadata": {},
     "output_type": "execute_result"
    }
   ],
   "source": [
    "10/2"
   ]
  },
  {
   "cell_type": "code",
   "execution_count": null,
   "id": "ddcbf8a9-e13f-44f7-b748-6a5534f92be4",
   "metadata": {},
   "outputs": [],
   "source": []
  }
 ],
 "metadata": {
  "kernelspec": {
   "display_name": "Python 3 (ipykernel)",
   "language": "python",
   "name": "python3"
  },
  "language_info": {
   "codemirror_mode": {
    "name": "ipython",
    "version": 3
   },
   "file_extension": ".py",
   "mimetype": "text/x-python",
   "name": "python",
   "nbconvert_exporter": "python",
   "pygments_lexer": "ipython3",
   "version": "3.11.7"
  }
 },
 "nbformat": 4,
 "nbformat_minor": 5
}
