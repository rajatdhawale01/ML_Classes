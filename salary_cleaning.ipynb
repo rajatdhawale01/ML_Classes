{
 "cells": [
  {
   "cell_type": "code",
   "execution_count": 2,
   "id": "c9f26621-e734-4847-bfda-b36816d89f9c",
   "metadata": {},
   "outputs": [],
   "source": [
    "import pandas as pd"
   ]
  },
  {
   "cell_type": "code",
   "execution_count": 8,
   "id": "21d878dd-3bbc-4173-bd5e-f6183671f8bb",
   "metadata": {},
   "outputs": [],
   "source": [
    "path = '/Users/rajatdhawale/Desktop/ML_Learning/Preprocessing/data/Salary_data.csv'"
   ]
  },
  {
   "cell_type": "code",
   "execution_count": 10,
   "id": "4b2995dc-a717-4a33-89c9-4954fcdcb954",
   "metadata": {},
   "outputs": [],
   "source": [
    "df = pd.read_csv(path)"
   ]
  },
  {
   "cell_type": "code",
   "execution_count": 12,
   "id": "c80e716c-5726-4287-9491-e8e6efbdc893",
   "metadata": {},
   "outputs": [
    {
     "data": {
      "text/plain": [
       "<bound method NDFrame.head of      employee_id   employee_name  experience_years  num_certifications  \\\n",
       "0       EMP99239     Fiona Jones                 2                   2   \n",
       "1       EMP78421     Diana Jones                 7                   0   \n",
       "2       EMP97839     Diana Jones                14                   3   \n",
       "3       EMP48127  Diana Williams                 4                   0   \n",
       "4       EMP30685    Hannah Smith                 2                   5   \n",
       "...          ...             ...               ...                 ...   \n",
       "9995    EMP27240   Hannah Miller                20                   1   \n",
       "9996    EMP80210     Alice Jones                 9                   1   \n",
       "9997    EMP65072    Hannah Jones                 3                   1   \n",
       "9998    EMP59550     Alice Davis                 4                   1   \n",
       "9999    EMP99419   Ivan Williams                 4                   4   \n",
       "\n",
       "     education_level   skill_level       industry    salary  \n",
       "0        high school      beginner  MANUFACTURING  17990.98  \n",
       "1                phd      advanced        Finance  22203.61  \n",
       "2                PhD  Intermediate     healthcare  43783.52  \n",
       "3                PHD      ADVANCED  manufacturing  23767.45  \n",
       "4        High School      BEGINNER     healthcare  30427.86  \n",
       "...              ...           ...            ...       ...  \n",
       "9995             phd      Beginner  MANUFACTURING  43966.81  \n",
       "9996       bachelors      Advanced  Manufacturing  29826.46  \n",
       "9997             PHD      advanced  MANUFACTURING  25141.86  \n",
       "9998         Masters      BEGINNER             It  19948.28  \n",
       "9999     HIGH SCHOOL      beginner        FINANCE  27687.30  \n",
       "\n",
       "[10000 rows x 8 columns]>"
      ]
     },
     "execution_count": 12,
     "metadata": {},
     "output_type": "execute_result"
    }
   ],
   "source": [
    "df.head"
   ]
  },
  {
   "cell_type": "code",
   "execution_count": 14,
   "id": "36f888f3-3f91-41fb-b29f-623e12f87136",
   "metadata": {},
   "outputs": [
    {
     "name": "stdout",
     "output_type": "stream",
     "text": [
      "<class 'pandas.core.frame.DataFrame'>\n",
      "RangeIndex: 10000 entries, 0 to 9999\n",
      "Data columns (total 8 columns):\n",
      " #   Column              Non-Null Count  Dtype  \n",
      "---  ------              --------------  -----  \n",
      " 0   employee_id         10000 non-null  object \n",
      " 1   employee_name       10000 non-null  object \n",
      " 2   experience_years    10000 non-null  int64  \n",
      " 3   num_certifications  10000 non-null  int64  \n",
      " 4   education_level     10000 non-null  object \n",
      " 5   skill_level         10000 non-null  object \n",
      " 6   industry            10000 non-null  object \n",
      " 7   salary              10000 non-null  float64\n",
      "dtypes: float64(1), int64(2), object(5)\n",
      "memory usage: 625.1+ KB\n"
     ]
    }
   ],
   "source": [
    "df.info()"
   ]
  },
  {
   "cell_type": "code",
   "execution_count": 16,
   "id": "165be627-2393-473b-b2e6-c7822b5a5372",
   "metadata": {},
   "outputs": [
    {
     "data": {
      "text/html": [
       "<div>\n",
       "<style scoped>\n",
       "    .dataframe tbody tr th:only-of-type {\n",
       "        vertical-align: middle;\n",
       "    }\n",
       "\n",
       "    .dataframe tbody tr th {\n",
       "        vertical-align: top;\n",
       "    }\n",
       "\n",
       "    .dataframe thead th {\n",
       "        text-align: right;\n",
       "    }\n",
       "</style>\n",
       "<table border=\"1\" class=\"dataframe\">\n",
       "  <thead>\n",
       "    <tr style=\"text-align: right;\">\n",
       "      <th></th>\n",
       "      <th>experience_years</th>\n",
       "      <th>num_certifications</th>\n",
       "      <th>salary</th>\n",
       "    </tr>\n",
       "  </thead>\n",
       "  <tbody>\n",
       "    <tr>\n",
       "      <th>count</th>\n",
       "      <td>10000.000000</td>\n",
       "      <td>10000.000000</td>\n",
       "      <td>10000.000000</td>\n",
       "    </tr>\n",
       "    <tr>\n",
       "      <th>mean</th>\n",
       "      <td>10.076700</td>\n",
       "      <td>2.511300</td>\n",
       "      <td>35755.627205</td>\n",
       "    </tr>\n",
       "    <tr>\n",
       "      <th>std</th>\n",
       "      <td>6.032931</td>\n",
       "      <td>1.713524</td>\n",
       "      <td>11498.153689</td>\n",
       "    </tr>\n",
       "    <tr>\n",
       "      <th>min</th>\n",
       "      <td>0.000000</td>\n",
       "      <td>0.000000</td>\n",
       "      <td>15000.000000</td>\n",
       "    </tr>\n",
       "    <tr>\n",
       "      <th>25%</th>\n",
       "      <td>5.000000</td>\n",
       "      <td>1.000000</td>\n",
       "      <td>27002.350000</td>\n",
       "    </tr>\n",
       "    <tr>\n",
       "      <th>50%</th>\n",
       "      <td>10.000000</td>\n",
       "      <td>3.000000</td>\n",
       "      <td>35827.755000</td>\n",
       "    </tr>\n",
       "    <tr>\n",
       "      <th>75%</th>\n",
       "      <td>15.000000</td>\n",
       "      <td>4.000000</td>\n",
       "      <td>44293.207500</td>\n",
       "    </tr>\n",
       "    <tr>\n",
       "      <th>max</th>\n",
       "      <td>20.000000</td>\n",
       "      <td>5.000000</td>\n",
       "      <td>59040.579000</td>\n",
       "    </tr>\n",
       "  </tbody>\n",
       "</table>\n",
       "</div>"
      ],
      "text/plain": [
       "       experience_years  num_certifications        salary\n",
       "count      10000.000000        10000.000000  10000.000000\n",
       "mean          10.076700            2.511300  35755.627205\n",
       "std            6.032931            1.713524  11498.153689\n",
       "min            0.000000            0.000000  15000.000000\n",
       "25%            5.000000            1.000000  27002.350000\n",
       "50%           10.000000            3.000000  35827.755000\n",
       "75%           15.000000            4.000000  44293.207500\n",
       "max           20.000000            5.000000  59040.579000"
      ]
     },
     "execution_count": 16,
     "metadata": {},
     "output_type": "execute_result"
    }
   ],
   "source": [
    "df.describe()"
   ]
  },
  {
   "cell_type": "code",
   "execution_count": 20,
   "id": "a3ca6082-4c65-426c-bccf-0c6d1bef2a4c",
   "metadata": {},
   "outputs": [
    {
     "data": {
      "text/plain": [
       "array(['MANUFACTURING', 'Finance', 'healthcare', 'manufacturing', 'it',\n",
       "       'Manufacturing', 'IT', 'Healthcare', 'FINANCE', 'finance',\n",
       "       'HEALTHCARE', 'It'], dtype=object)"
      ]
     },
     "execution_count": 20,
     "metadata": {},
     "output_type": "execute_result"
    }
   ],
   "source": [
    "df.industry.unique()"
   ]
  },
  {
   "cell_type": "code",
   "execution_count": 22,
   "id": "ccc84b68-de72-4d51-87df-d1be8d2bfeab",
   "metadata": {},
   "outputs": [
    {
     "name": "stdout",
     "output_type": "stream",
     "text": [
      "<class 'pandas.core.frame.DataFrame'>\n",
      "RangeIndex: 10000 entries, 0 to 9999\n",
      "Data columns (total 8 columns):\n",
      " #   Column              Non-Null Count  Dtype  \n",
      "---  ------              --------------  -----  \n",
      " 0   employee_id         10000 non-null  object \n",
      " 1   employee_name       10000 non-null  object \n",
      " 2   experience_years    10000 non-null  int64  \n",
      " 3   num_certifications  10000 non-null  int64  \n",
      " 4   education_level     10000 non-null  object \n",
      " 5   skill_level         10000 non-null  object \n",
      " 6   industry            10000 non-null  object \n",
      " 7   salary              10000 non-null  float64\n",
      "dtypes: float64(1), int64(2), object(5)\n",
      "memory usage: 625.1+ KB\n"
     ]
    }
   ],
   "source": [
    "df.info()"
   ]
  },
  {
   "cell_type": "code",
   "execution_count": 24,
   "id": "2301d59f-ff40-41db-992a-b757bb0dbe0d",
   "metadata": {},
   "outputs": [
    {
     "data": {
      "text/plain": [
       "9539"
      ]
     },
     "execution_count": 24,
     "metadata": {},
     "output_type": "execute_result"
    }
   ],
   "source": [
    "df.employee_id.nunique()"
   ]
  },
  {
   "cell_type": "code",
   "execution_count": 26,
   "id": "dcd66fb7-4928-49c1-9eee-1646ce1b2999",
   "metadata": {},
   "outputs": [
    {
     "data": {
      "text/plain": [
       "array([ 2,  7, 14,  4, 18,  0,  1, 13, 10, 15,  3, 19, 20, 17,  6,  9, 11,\n",
       "        5,  8, 16, 12])"
      ]
     },
     "execution_count": 26,
     "metadata": {},
     "output_type": "execute_result"
    }
   ],
   "source": [
    "df.experience_years.unique()"
   ]
  },
  {
   "cell_type": "code",
   "execution_count": 36,
   "id": "ee4c3744-1d37-4090-8480-61f2be8aa91f",
   "metadata": {},
   "outputs": [
    {
     "ename": "AttributeError",
     "evalue": "'SeriesGroupBy' object has no attribute 'trnasform'",
     "output_type": "error",
     "traceback": [
      "\u001b[0;31m---------------------------------------------------------------------------\u001b[0m",
      "\u001b[0;31mAttributeError\u001b[0m                            Traceback (most recent call last)",
      "Cell \u001b[0;32mIn[36], line 1\u001b[0m\n\u001b[0;32m----> 1\u001b[0m df[\u001b[38;5;124m'\u001b[39m\u001b[38;5;124mcount\u001b[39m\u001b[38;5;124m'\u001b[39m] \u001b[38;5;241m=\u001b[39m df\u001b[38;5;241m.\u001b[39mgroupby(\u001b[38;5;124m'\u001b[39m\u001b[38;5;124memployee_id\u001b[39m\u001b[38;5;124m'\u001b[39m)[\u001b[38;5;124m'\u001b[39m\u001b[38;5;124memployee_id\u001b[39m\u001b[38;5;124m'\u001b[39m]\u001b[38;5;241m.\u001b[39mtrnasform(\u001b[38;5;124m'\u001b[39m\u001b[38;5;124mcount\u001b[39m\u001b[38;5;124m'\u001b[39m)\n",
      "File \u001b[0;32m/opt/anaconda3/lib/python3.11/site-packages/pandas/core/groupby/groupby.py:987\u001b[0m, in \u001b[0;36mGroupBy.__getattr__\u001b[0;34m(self, attr)\u001b[0m\n\u001b[1;32m    984\u001b[0m \u001b[38;5;28;01mif\u001b[39;00m attr \u001b[38;5;129;01min\u001b[39;00m \u001b[38;5;28mself\u001b[39m\u001b[38;5;241m.\u001b[39mobj:\n\u001b[1;32m    985\u001b[0m     \u001b[38;5;28;01mreturn\u001b[39;00m \u001b[38;5;28mself\u001b[39m[attr]\n\u001b[0;32m--> 987\u001b[0m \u001b[38;5;28;01mraise\u001b[39;00m \u001b[38;5;167;01mAttributeError\u001b[39;00m(\n\u001b[1;32m    988\u001b[0m     \u001b[38;5;124mf\u001b[39m\u001b[38;5;124m\"\u001b[39m\u001b[38;5;124m'\u001b[39m\u001b[38;5;132;01m{\u001b[39;00m\u001b[38;5;28mtype\u001b[39m(\u001b[38;5;28mself\u001b[39m)\u001b[38;5;241m.\u001b[39m\u001b[38;5;18m__name__\u001b[39m\u001b[38;5;132;01m}\u001b[39;00m\u001b[38;5;124m'\u001b[39m\u001b[38;5;124m object has no attribute \u001b[39m\u001b[38;5;124m'\u001b[39m\u001b[38;5;132;01m{\u001b[39;00mattr\u001b[38;5;132;01m}\u001b[39;00m\u001b[38;5;124m'\u001b[39m\u001b[38;5;124m\"\u001b[39m\n\u001b[1;32m    989\u001b[0m )\n",
      "\u001b[0;31mAttributeError\u001b[0m: 'SeriesGroupBy' object has no attribute 'trnasform'"
     ]
    }
   ],
   "source": []
  },
  {
   "cell_type": "code",
   "execution_count": null,
   "id": "43b6ae91-806f-4f4e-aa55-535dcb29662e",
   "metadata": {},
   "outputs": [],
   "source": []
  }
 ],
 "metadata": {
  "kernelspec": {
   "display_name": "Python 3 (ipykernel)",
   "language": "python",
   "name": "python3"
  },
  "language_info": {
   "codemirror_mode": {
    "name": "ipython",
    "version": 3
   },
   "file_extension": ".py",
   "mimetype": "text/x-python",
   "name": "python",
   "nbconvert_exporter": "python",
   "pygments_lexer": "ipython3",
   "version": "3.11.7"
  }
 },
 "nbformat": 4,
 "nbformat_minor": 5
}
