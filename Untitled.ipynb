{
 "cells": [
  {
   "cell_type": "code",
   "execution_count": 22,
   "id": "c35db495-bf07-4e9f-b19a-937136ca042c",
   "metadata": {},
   "outputs": [],
   "source": [
    "import pandas as pd\n",
    "\n",
    "path = '/Users/rajatdhawale/Desktop/ML_Learning/Preprocessing/data/Food_Delivery_Dataset.csv'\n",
    "\n",
    "df = pd.read_csv(path)"
   ]
  },
  {
   "cell_type": "code",
   "execution_count": 24,
   "id": "3ba97023-7c5c-463a-80b4-f8d0397b3729",
   "metadata": {},
   "outputs": [
    {
     "data": {
      "text/html": [
       "<div>\n",
       "<style scoped>\n",
       "    .dataframe tbody tr th:only-of-type {\n",
       "        vertical-align: middle;\n",
       "    }\n",
       "\n",
       "    .dataframe tbody tr th {\n",
       "        vertical-align: top;\n",
       "    }\n",
       "\n",
       "    .dataframe thead th {\n",
       "        text-align: right;\n",
       "    }\n",
       "</style>\n",
       "<table border=\"1\" class=\"dataframe\">\n",
       "  <thead>\n",
       "    <tr style=\"text-align: right;\">\n",
       "      <th></th>\n",
       "      <th>order_distance_km</th>\n",
       "      <th>delivery_partner_rating</th>\n",
       "      <th>restaurant_rating</th>\n",
       "      <th>order_time</th>\n",
       "      <th>food_type</th>\n",
       "      <th>traffic_condition</th>\n",
       "      <th>platform</th>\n",
       "      <th>delivery_time_min</th>\n",
       "      <th>order_id</th>\n",
       "      <th>customer_note</th>\n",
       "    </tr>\n",
       "  </thead>\n",
       "  <tbody>\n",
       "    <tr>\n",
       "      <th>0</th>\n",
       "      <td>21.51</td>\n",
       "      <td>3.4</td>\n",
       "      <td>2.0</td>\n",
       "      <td>night</td>\n",
       "      <td>non-veg</td>\n",
       "      <td>moderate</td>\n",
       "      <td>ubereats</td>\n",
       "      <td>189.637551</td>\n",
       "      <td>ORD063836</td>\n",
       "      <td>no onions</td>\n",
       "    </tr>\n",
       "    <tr>\n",
       "      <th>1</th>\n",
       "      <td>11.17</td>\n",
       "      <td>4.1</td>\n",
       "      <td>3.1</td>\n",
       "      <td>afternoon</td>\n",
       "      <td>non-veg</td>\n",
       "      <td>low</td>\n",
       "      <td>swiggy</td>\n",
       "      <td>64.378078</td>\n",
       "      <td>ORD800755</td>\n",
       "      <td>contactless</td>\n",
       "    </tr>\n",
       "    <tr>\n",
       "      <th>2</th>\n",
       "      <td>22.74</td>\n",
       "      <td>4.6</td>\n",
       "      <td>2.4</td>\n",
       "      <td>night</td>\n",
       "      <td>veg</td>\n",
       "      <td>high</td>\n",
       "      <td>ubereats</td>\n",
       "      <td>189.169643</td>\n",
       "      <td>ORD707411</td>\n",
       "      <td>deliver fast</td>\n",
       "    </tr>\n",
       "    <tr>\n",
       "      <th>3</th>\n",
       "      <td>19.21</td>\n",
       "      <td>3.8</td>\n",
       "      <td>2.4</td>\n",
       "      <td>morning</td>\n",
       "      <td>non-veg</td>\n",
       "      <td>moderate</td>\n",
       "      <td>zomato</td>\n",
       "      <td>134.029749</td>\n",
       "      <td>ORD579322</td>\n",
       "      <td>deliver fast</td>\n",
       "    </tr>\n",
       "    <tr>\n",
       "      <th>4</th>\n",
       "      <td>19.19</td>\n",
       "      <td>3.2</td>\n",
       "      <td>2.9</td>\n",
       "      <td>evening</td>\n",
       "      <td>veg</td>\n",
       "      <td>high</td>\n",
       "      <td>ubereats</td>\n",
       "      <td>157.162033</td>\n",
       "      <td>ORD364058</td>\n",
       "      <td>extra spicy</td>\n",
       "    </tr>\n",
       "  </tbody>\n",
       "</table>\n",
       "</div>"
      ],
      "text/plain": [
       "   order_distance_km  delivery_partner_rating  restaurant_rating order_time  \\\n",
       "0              21.51                      3.4                2.0      night   \n",
       "1              11.17                      4.1                3.1  afternoon   \n",
       "2              22.74                      4.6                2.4      night   \n",
       "3              19.21                      3.8                2.4    morning   \n",
       "4              19.19                      3.2                2.9    evening   \n",
       "\n",
       "  food_type traffic_condition  platform  delivery_time_min   order_id  \\\n",
       "0   non-veg          moderate  ubereats         189.637551  ORD063836   \n",
       "1   non-veg               low    swiggy          64.378078  ORD800755   \n",
       "2       veg              high  ubereats         189.169643  ORD707411   \n",
       "3   non-veg          moderate    zomato         134.029749  ORD579322   \n",
       "4       veg              high  ubereats         157.162033  ORD364058   \n",
       "\n",
       "  customer_note  \n",
       "0     no onions  \n",
       "1   contactless  \n",
       "2  deliver fast  \n",
       "3  deliver fast  \n",
       "4   extra spicy  "
      ]
     },
     "execution_count": 24,
     "metadata": {},
     "output_type": "execute_result"
    }
   ],
   "source": [
    "df.head(5)"
   ]
  },
  {
   "cell_type": "code",
   "execution_count": 8,
   "id": "cd7386fc-3d77-41e2-99aa-5512059b3801",
   "metadata": {},
   "outputs": [
    {
     "name": "stdout",
     "output_type": "stream",
     "text": [
      "<class 'pandas.core.frame.DataFrame'>\n",
      "RangeIndex: 5050 entries, 0 to 5049\n",
      "Data columns (total 10 columns):\n",
      " #   Column                   Non-Null Count  Dtype  \n",
      "---  ------                   --------------  -----  \n",
      " 0   order_distance_km        4974 non-null   float64\n",
      " 1   delivery_partner_rating  4975 non-null   float64\n",
      " 2   restaurant_rating        5050 non-null   float64\n",
      " 3   order_time               5050 non-null   object \n",
      " 4   food_type                5050 non-null   object \n",
      " 5   traffic_condition        5050 non-null   object \n",
      " 6   platform                 5050 non-null   object \n",
      " 7   delivery_time_min        4899 non-null   float64\n",
      " 8   order_id                 5050 non-null   object \n",
      " 9   customer_note            5050 non-null   object \n",
      "dtypes: float64(4), object(6)\n",
      "memory usage: 394.7+ KB\n"
     ]
    }
   ],
   "source": [
    "df.info()"
   ]
  },
  {
   "cell_type": "code",
   "execution_count": 10,
   "id": "258cd6b7-a4f5-4b73-969f-61c05e7810e2",
   "metadata": {},
   "outputs": [
    {
     "data": {
      "text/html": [
       "<div>\n",
       "<style scoped>\n",
       "    .dataframe tbody tr th:only-of-type {\n",
       "        vertical-align: middle;\n",
       "    }\n",
       "\n",
       "    .dataframe tbody tr th {\n",
       "        vertical-align: top;\n",
       "    }\n",
       "\n",
       "    .dataframe thead th {\n",
       "        text-align: right;\n",
       "    }\n",
       "</style>\n",
       "<table border=\"1\" class=\"dataframe\">\n",
       "  <thead>\n",
       "    <tr style=\"text-align: right;\">\n",
       "      <th></th>\n",
       "      <th>order_distance_km</th>\n",
       "      <th>delivery_partner_rating</th>\n",
       "      <th>restaurant_rating</th>\n",
       "      <th>delivery_time_min</th>\n",
       "    </tr>\n",
       "  </thead>\n",
       "  <tbody>\n",
       "    <tr>\n",
       "      <th>count</th>\n",
       "      <td>4974.000000</td>\n",
       "      <td>4975.000000</td>\n",
       "      <td>5050.000000</td>\n",
       "      <td>4899.000000</td>\n",
       "    </tr>\n",
       "    <tr>\n",
       "      <th>mean</th>\n",
       "      <td>12.713969</td>\n",
       "      <td>3.755337</td>\n",
       "      <td>3.494277</td>\n",
       "      <td>98.109536</td>\n",
       "    </tr>\n",
       "    <tr>\n",
       "      <th>std</th>\n",
       "      <td>7.118125</td>\n",
       "      <td>0.734255</td>\n",
       "      <td>0.874783</td>\n",
       "      <td>50.460971</td>\n",
       "    </tr>\n",
       "    <tr>\n",
       "      <th>min</th>\n",
       "      <td>0.500000</td>\n",
       "      <td>2.500000</td>\n",
       "      <td>2.000000</td>\n",
       "      <td>10.000000</td>\n",
       "    </tr>\n",
       "    <tr>\n",
       "      <th>25%</th>\n",
       "      <td>6.500000</td>\n",
       "      <td>3.100000</td>\n",
       "      <td>2.700000</td>\n",
       "      <td>56.604047</td>\n",
       "    </tr>\n",
       "    <tr>\n",
       "      <th>50%</th>\n",
       "      <td>12.775000</td>\n",
       "      <td>3.800000</td>\n",
       "      <td>3.500000</td>\n",
       "      <td>94.329556</td>\n",
       "    </tr>\n",
       "    <tr>\n",
       "      <th>75%</th>\n",
       "      <td>18.930000</td>\n",
       "      <td>4.400000</td>\n",
       "      <td>4.300000</td>\n",
       "      <td>133.925423</td>\n",
       "    </tr>\n",
       "    <tr>\n",
       "      <th>max</th>\n",
       "      <td>25.000000</td>\n",
       "      <td>5.000000</td>\n",
       "      <td>5.000000</td>\n",
       "      <td>274.313000</td>\n",
       "    </tr>\n",
       "  </tbody>\n",
       "</table>\n",
       "</div>"
      ],
      "text/plain": [
       "       order_distance_km  delivery_partner_rating  restaurant_rating  \\\n",
       "count        4974.000000              4975.000000        5050.000000   \n",
       "mean           12.713969                 3.755337           3.494277   \n",
       "std             7.118125                 0.734255           0.874783   \n",
       "min             0.500000                 2.500000           2.000000   \n",
       "25%             6.500000                 3.100000           2.700000   \n",
       "50%            12.775000                 3.800000           3.500000   \n",
       "75%            18.930000                 4.400000           4.300000   \n",
       "max            25.000000                 5.000000           5.000000   \n",
       "\n",
       "       delivery_time_min  \n",
       "count        4899.000000  \n",
       "mean           98.109536  \n",
       "std            50.460971  \n",
       "min            10.000000  \n",
       "25%            56.604047  \n",
       "50%            94.329556  \n",
       "75%           133.925423  \n",
       "max           274.313000  "
      ]
     },
     "execution_count": 10,
     "metadata": {},
     "output_type": "execute_result"
    }
   ],
   "source": [
    "df.describe()"
   ]
  },
  {
   "cell_type": "code",
   "execution_count": 26,
   "id": "c0078622-ebaa-42d2-a6f2-858ab28d5928",
   "metadata": {},
   "outputs": [
    {
     "name": "stdout",
     "output_type": "stream",
     "text": [
      "<class 'pandas.core.frame.DataFrame'>\n",
      "RangeIndex: 5050 entries, 0 to 5049\n",
      "Data columns (total 10 columns):\n",
      " #   Column                   Non-Null Count  Dtype  \n",
      "---  ------                   --------------  -----  \n",
      " 0   order_distance_km        4974 non-null   float64\n",
      " 1   delivery_partner_rating  4975 non-null   float64\n",
      " 2   restaurant_rating        5050 non-null   float64\n",
      " 3   order_time               5050 non-null   object \n",
      " 4   food_type                5050 non-null   object \n",
      " 5   traffic_condition        5050 non-null   object \n",
      " 6   platform                 5050 non-null   object \n",
      " 7   delivery_time_min        4899 non-null   float64\n",
      " 8   order_id                 5050 non-null   object \n",
      " 9   customer_note            5050 non-null   object \n",
      "dtypes: float64(4), object(6)\n",
      "memory usage: 394.7+ KB\n"
     ]
    }
   ],
   "source": [
    "df.info()"
   ]
  },
  {
   "cell_type": "code",
   "execution_count": 28,
   "id": "93c75a2f-734c-419a-934a-1b6fd60918b0",
   "metadata": {},
   "outputs": [
    {
     "data": {
      "text/html": [
       "<div>\n",
       "<style scoped>\n",
       "    .dataframe tbody tr th:only-of-type {\n",
       "        vertical-align: middle;\n",
       "    }\n",
       "\n",
       "    .dataframe tbody tr th {\n",
       "        vertical-align: top;\n",
       "    }\n",
       "\n",
       "    .dataframe thead th {\n",
       "        text-align: right;\n",
       "    }\n",
       "</style>\n",
       "<table border=\"1\" class=\"dataframe\">\n",
       "  <thead>\n",
       "    <tr style=\"text-align: right;\">\n",
       "      <th></th>\n",
       "      <th>order_distance_km</th>\n",
       "      <th>delivery_partner_rating</th>\n",
       "      <th>restaurant_rating</th>\n",
       "      <th>delivery_time_min</th>\n",
       "    </tr>\n",
       "  </thead>\n",
       "  <tbody>\n",
       "    <tr>\n",
       "      <th>count</th>\n",
       "      <td>4974.000000</td>\n",
       "      <td>4975.000000</td>\n",
       "      <td>5050.000000</td>\n",
       "      <td>4899.000000</td>\n",
       "    </tr>\n",
       "    <tr>\n",
       "      <th>mean</th>\n",
       "      <td>12.713969</td>\n",
       "      <td>3.755337</td>\n",
       "      <td>3.494277</td>\n",
       "      <td>98.109536</td>\n",
       "    </tr>\n",
       "    <tr>\n",
       "      <th>std</th>\n",
       "      <td>7.118125</td>\n",
       "      <td>0.734255</td>\n",
       "      <td>0.874783</td>\n",
       "      <td>50.460971</td>\n",
       "    </tr>\n",
       "    <tr>\n",
       "      <th>min</th>\n",
       "      <td>0.500000</td>\n",
       "      <td>2.500000</td>\n",
       "      <td>2.000000</td>\n",
       "      <td>10.000000</td>\n",
       "    </tr>\n",
       "    <tr>\n",
       "      <th>25%</th>\n",
       "      <td>6.500000</td>\n",
       "      <td>3.100000</td>\n",
       "      <td>2.700000</td>\n",
       "      <td>56.604047</td>\n",
       "    </tr>\n",
       "    <tr>\n",
       "      <th>50%</th>\n",
       "      <td>12.775000</td>\n",
       "      <td>3.800000</td>\n",
       "      <td>3.500000</td>\n",
       "      <td>94.329556</td>\n",
       "    </tr>\n",
       "    <tr>\n",
       "      <th>75%</th>\n",
       "      <td>18.930000</td>\n",
       "      <td>4.400000</td>\n",
       "      <td>4.300000</td>\n",
       "      <td>133.925423</td>\n",
       "    </tr>\n",
       "    <tr>\n",
       "      <th>max</th>\n",
       "      <td>25.000000</td>\n",
       "      <td>5.000000</td>\n",
       "      <td>5.000000</td>\n",
       "      <td>274.313000</td>\n",
       "    </tr>\n",
       "  </tbody>\n",
       "</table>\n",
       "</div>"
      ],
      "text/plain": [
       "       order_distance_km  delivery_partner_rating  restaurant_rating  \\\n",
       "count        4974.000000              4975.000000        5050.000000   \n",
       "mean           12.713969                 3.755337           3.494277   \n",
       "std             7.118125                 0.734255           0.874783   \n",
       "min             0.500000                 2.500000           2.000000   \n",
       "25%             6.500000                 3.100000           2.700000   \n",
       "50%            12.775000                 3.800000           3.500000   \n",
       "75%            18.930000                 4.400000           4.300000   \n",
       "max            25.000000                 5.000000           5.000000   \n",
       "\n",
       "       delivery_time_min  \n",
       "count        4899.000000  \n",
       "mean           98.109536  \n",
       "std            50.460971  \n",
       "min            10.000000  \n",
       "25%            56.604047  \n",
       "50%            94.329556  \n",
       "75%           133.925423  \n",
       "max           274.313000  "
      ]
     },
     "execution_count": 28,
     "metadata": {},
     "output_type": "execute_result"
    }
   ],
   "source": [
    "df.describe()"
   ]
  },
  {
   "cell_type": "code",
   "execution_count": 46,
   "id": "7be3c203-6784-4320-902e-0d279740e2b3",
   "metadata": {},
   "outputs": [
    {
     "ename": "SyntaxError",
     "evalue": "invalid syntax (536693997.py, line 1)",
     "output_type": "error",
     "traceback": [
      "\u001b[0;36m  Cell \u001b[0;32mIn[46], line 1\u001b[0;36m\u001b[0m\n\u001b[0;31m    df['order_distance_km'] =\u001b[0m\n\u001b[0m                              ^\u001b[0m\n\u001b[0;31mSyntaxError\u001b[0m\u001b[0;31m:\u001b[0m invalid syntax\n"
     ]
    }
   ],
   "source": [
    "df['order_distance_km'] = \n",
    "df['order_distance_km'].fillna(df['order_distance_km'].mean())"
   ]
  },
  {
   "cell_type": "code",
   "execution_count": 34,
   "id": "6b562bfd-1a47-49c2-949b-55a3411b16f1",
   "metadata": {},
   "outputs": [],
   "source": [
    "df['delivery_partner_rating'] = df['delivery_partner_rating'].fillna(0)"
   ]
  },
  {
   "cell_type": "code",
   "execution_count": 36,
   "id": "c8c78bcb-9f51-4d3b-a4d1-c5eb803a19f4",
   "metadata": {},
   "outputs": [
    {
     "data": {
      "text/html": [
       "<div>\n",
       "<style scoped>\n",
       "    .dataframe tbody tr th:only-of-type {\n",
       "        vertical-align: middle;\n",
       "    }\n",
       "\n",
       "    .dataframe tbody tr th {\n",
       "        vertical-align: top;\n",
       "    }\n",
       "\n",
       "    .dataframe thead th {\n",
       "        text-align: right;\n",
       "    }\n",
       "</style>\n",
       "<table border=\"1\" class=\"dataframe\">\n",
       "  <thead>\n",
       "    <tr style=\"text-align: right;\">\n",
       "      <th></th>\n",
       "      <th>order_distance_km</th>\n",
       "      <th>delivery_partner_rating</th>\n",
       "      <th>restaurant_rating</th>\n",
       "      <th>delivery_time_min</th>\n",
       "    </tr>\n",
       "  </thead>\n",
       "  <tbody>\n",
       "    <tr>\n",
       "      <th>count</th>\n",
       "      <td>5050.000000</td>\n",
       "      <td>5050.000000</td>\n",
       "      <td>5050.000000</td>\n",
       "      <td>4899.000000</td>\n",
       "    </tr>\n",
       "    <tr>\n",
       "      <th>mean</th>\n",
       "      <td>12.713969</td>\n",
       "      <td>3.699564</td>\n",
       "      <td>3.494277</td>\n",
       "      <td>98.109536</td>\n",
       "    </tr>\n",
       "    <tr>\n",
       "      <th>std</th>\n",
       "      <td>7.064349</td>\n",
       "      <td>0.858776</td>\n",
       "      <td>0.874783</td>\n",
       "      <td>50.460971</td>\n",
       "    </tr>\n",
       "    <tr>\n",
       "      <th>min</th>\n",
       "      <td>0.500000</td>\n",
       "      <td>0.000000</td>\n",
       "      <td>2.000000</td>\n",
       "      <td>10.000000</td>\n",
       "    </tr>\n",
       "    <tr>\n",
       "      <th>25%</th>\n",
       "      <td>6.610000</td>\n",
       "      <td>3.100000</td>\n",
       "      <td>2.700000</td>\n",
       "      <td>56.604047</td>\n",
       "    </tr>\n",
       "    <tr>\n",
       "      <th>50%</th>\n",
       "      <td>12.713969</td>\n",
       "      <td>3.700000</td>\n",
       "      <td>3.500000</td>\n",
       "      <td>94.329556</td>\n",
       "    </tr>\n",
       "    <tr>\n",
       "      <th>75%</th>\n",
       "      <td>18.830000</td>\n",
       "      <td>4.400000</td>\n",
       "      <td>4.300000</td>\n",
       "      <td>133.925423</td>\n",
       "    </tr>\n",
       "    <tr>\n",
       "      <th>max</th>\n",
       "      <td>25.000000</td>\n",
       "      <td>5.000000</td>\n",
       "      <td>5.000000</td>\n",
       "      <td>274.313000</td>\n",
       "    </tr>\n",
       "  </tbody>\n",
       "</table>\n",
       "</div>"
      ],
      "text/plain": [
       "       order_distance_km  delivery_partner_rating  restaurant_rating  \\\n",
       "count        5050.000000              5050.000000        5050.000000   \n",
       "mean           12.713969                 3.699564           3.494277   \n",
       "std             7.064349                 0.858776           0.874783   \n",
       "min             0.500000                 0.000000           2.000000   \n",
       "25%             6.610000                 3.100000           2.700000   \n",
       "50%            12.713969                 3.700000           3.500000   \n",
       "75%            18.830000                 4.400000           4.300000   \n",
       "max            25.000000                 5.000000           5.000000   \n",
       "\n",
       "       delivery_time_min  \n",
       "count        4899.000000  \n",
       "mean           98.109536  \n",
       "std            50.460971  \n",
       "min            10.000000  \n",
       "25%            56.604047  \n",
       "50%            94.329556  \n",
       "75%           133.925423  \n",
       "max           274.313000  "
      ]
     },
     "execution_count": 36,
     "metadata": {},
     "output_type": "execute_result"
    }
   ],
   "source": [
    "df.describe()"
   ]
  },
  {
   "cell_type": "code",
   "execution_count": 38,
   "id": "7517d297-4fb5-4616-b437-aac1c3c0fa6d",
   "metadata": {},
   "outputs": [
    {
     "data": {
      "text/plain": [
       "12.75"
      ]
     },
     "execution_count": 38,
     "metadata": {},
     "output_type": "execute_result"
    }
   ],
   "source": [
    "(0.5 + 25) /2"
   ]
  },
  {
   "cell_type": "code",
   "execution_count": 40,
   "id": "c3b645c2-753a-4012-81fc-9ebb6d3c0c17",
   "metadata": {},
   "outputs": [],
   "source": [
    "l = [1,2,3,4,5,6,7,8,9,100]"
   ]
  },
  {
   "cell_type": "code",
   "execution_count": 42,
   "id": "7c0b7f1a-224f-4d14-8d2e-0f3275cbf377",
   "metadata": {},
   "outputs": [
    {
     "data": {
      "text/plain": [
       "14.5"
      ]
     },
     "execution_count": 42,
     "metadata": {},
     "output_type": "execute_result"
    }
   ],
   "source": [
    "sum(l)/len(l)"
   ]
  },
  {
   "cell_type": "code",
   "execution_count": 58,
   "id": "0c448bc0-5d73-47c8-b5ec-9021dfb9c917",
   "metadata": {},
   "outputs": [
    {
     "name": "stdout",
     "output_type": "stream",
     "text": [
      "<class 'pandas.core.frame.DataFrame'>\n",
      "RangeIndex: 5050 entries, 0 to 5049\n",
      "Data columns (total 10 columns):\n",
      " #   Column                   Non-Null Count  Dtype  \n",
      "---  ------                   --------------  -----  \n",
      " 0   order_distance_km        5050 non-null   float64\n",
      " 1   delivery_partner_rating  5050 non-null   float64\n",
      " 2   restaurant_rating        5050 non-null   float64\n",
      " 3   order_time               5050 non-null   object \n",
      " 4   food_type                5050 non-null   object \n",
      " 5   traffic_condition        5050 non-null   object \n",
      " 6   platform                 5050 non-null   object \n",
      " 7   delivery_time_min        4899 non-null   float64\n",
      " 8   order_id                 5050 non-null   object \n",
      " 9   customer_note            5050 non-null   object \n",
      "dtypes: float64(4), object(6)\n",
      "memory usage: 394.7+ KB\n"
     ]
    }
   ],
   "source": [
    "df.info()"
   ]
  },
  {
   "cell_type": "code",
   "execution_count": 60,
   "id": "ee82c357-5a14-4854-aeb2-c8e3484e0bd6",
   "metadata": {},
   "outputs": [
    {
     "name": "stdout",
     "output_type": "stream",
     "text": [
      "['night' 'afternoon' 'morning' 'evening']\n",
      "['non-veg' 'veg']\n",
      "['moderate' 'low' 'high']\n"
     ]
    }
   ],
   "source": [
    "categorical_columns = ['order_time','food_type', 'traffic_condition']\n",
    "for col in categorical_columns:\n",
    "    print(df[col].unique())"
   ]
  },
  {
   "cell_type": "code",
   "execution_count": null,
   "id": "abd996cf-492a-430a-b8ff-8e3c96c5a8d3",
   "metadata": {},
   "outputs": [],
   "source": []
  }
 ],
 "metadata": {
  "kernelspec": {
   "display_name": "Python 3 (ipykernel)",
   "language": "python",
   "name": "python3"
  },
  "language_info": {
   "codemirror_mode": {
    "name": "ipython",
    "version": 3
   },
   "file_extension": ".py",
   "mimetype": "text/x-python",
   "name": "python",
   "nbconvert_exporter": "python",
   "pygments_lexer": "ipython3",
   "version": "3.11.7"
  }
 },
 "nbformat": 4,
 "nbformat_minor": 5
}
